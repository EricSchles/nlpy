{
 "metadata": {
  "name": ""
 },
 "nbformat": 3,
 "nbformat_minor": 0,
 "worksheets": [
  {
   "cells": [
    {
     "cell_type": "code",
     "collapsed": false,
     "input": [
      "from text.classifiers import NaiveBayesClassifier\n",
      "\n",
      "train = [\n",
      "         ('yo','greeting'),\n",
      "         ('yo yo','greeting'),\n",
      "         ('I\\'m here, yo','greeting'),\n",
      "         ('hello there','greeting'),\n",
      "         ('hi, how are you?','greeting'),\n",
      "         ('heeeeyyy','greeting'),\n",
      "         ('how the hell are you?','greeting'),\n",
      "         ('good to see you, how have you been?','greeting'),\n",
      "         ('hi there','greeting'),\n",
      "         ('bye','parting'),\n",
      "         ('see you','parting'),\n",
      "         ('later','parting'),\n",
      "         ('goodbye','parting'),\n",
      "         ('i\\'ve got to go','parting'),\n",
      "         ('i\\'ll talk to you later','parting'),\n",
      "         ('i\\'m out of here','parting'),\n",
      "         ('peace','parting')\n",
      "        ]\n",
      "\n",
      "test = [\n",
      "        ('hey!','greeting'),\n",
      "        ('how are you?','greeting'),\n",
      "        ('I haven\\'t seen you in years, how are you doing?','greeting'),\n",
      "        ('got to go, later','parting'),\n",
      "        ('I\\'m out, peace','parting'),\n",
      "        ('later homie','parting'),\n",
      "        ('peace out homie','parting')\n",
      "        ]\n",
      "\n",
      "cl = NaiveBayesClassifier(train)\n",
      "print cl.classify(\"I have to leave, bye!\")\n",
      "print cl.classify(\"yo\") #get from the crowd\n",
      "print cl.classify(\"later homie\") #get from the crowd\n",
      "\n",
      "cl.accuracy(test)\n"
     ],
     "language": "python",
     "metadata": {},
     "outputs": [
      {
       "output_type": "stream",
       "stream": "stdout",
       "text": [
        "parting\n",
        "greeting\n",
        "parting\n"
       ]
      },
      {
       "metadata": {},
       "output_type": "pyout",
       "prompt_number": 2,
       "text": [
        "0.8571428571428571"
       ]
      }
     ],
     "prompt_number": 2
    }
   ],
   "metadata": {}
  }
 ]
}