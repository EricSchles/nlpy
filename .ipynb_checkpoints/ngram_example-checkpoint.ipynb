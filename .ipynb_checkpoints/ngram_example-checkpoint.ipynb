{
 "metadata": {
  "name": ""
 },
 "nbformat": 3,
 "nbformat_minor": 0,
 "worksheets": [
  {
   "cells": [
    {
     "cell_type": "code",
     "collapsed": false,
     "input": [
      "from ngram import Ngram\n",
      " \n",
      "first = Ngram(\"I wrote this sentence, all by myself.\")\n",
      "second = Ngram(\"Disclaimer: I also wrote this sentence, but with help from the internet\")\n",
      "#first.comparison(second)\n",
      "\n",
      "paul_krugman_today = Ngram(\"\"\"Danny Vinik notes that \u201creform conservatives\u201d, who are trying either to rescue the right from its intellectual torpor or to provide cover for its fundamental anti-intellectualism \u2014 your choice \u2014 have gotten a fair bit of lip service for some of their ideas, but none at all for one key proposal: activist monetary policy to assure full employment.\n",
      "\n",
      "This was predictable.\n",
      "\n",
      "The neomonetarist movement starts from an acknowledgement of reality: shortfalls of aggregate demand do happen, and they do matter, and we need an answer. Like the original monetarists, however, they reject any government role in the form of discretionary fiscal policy. Instead, they argue that the Fed and its counterparts can do the job all on their own if they really want to.\n",
      "\n",
      "I don\u2019t buy this on the economics; to do what\u2019s needed central banks either have to take on a lot of risk, which is in effect a form of fiscal policy, or change inflation expectations, which is far beyond conventional monetary policy. But we don\u2019t need to hash this out here. The more important point is that the neomonetarists are deluded in imagining that there is any constituency for their ideas in the modern conservative movement.\n",
      "\n",
      "Remember what happened when the Fed began a partial move toward the kind of policy they want: practically the whole Republican establishment began screaming at Ben Bernanke that he was debasing the currency. And surely you don\u2019t think that the failure of inflation to materialize has changed their minds.\n",
      "\n",
      "And underlying this total opposition to monetary expansion lie two deep forces. First, much of the right is thoroughly committed to the view that bad things only happen because of the government, that the private sector will never have problems if it has low taxes and the security of the gold standard. Paul Ryan is effectively the intellectual leader of the GOP \u2014 and he gets his monetary economics from characters in Ayn Rand novels.\n",
      "\n",
      "Moreover, the Kalecki argument about why business interests oppose activist fiscal policy applies to monetary policy too. If \u201ccaptains of industry\u201d want the body politic to believe that prosperity depends on their \u201cconfidence\u201d \u2014 so that any criticism leads to depression \u2014 they\u2019re going to hate monetarism as much as they hate Keynesianism, because both imply that full employment depends on policy, not their hurt feelings.\n",
      "\n",
      "So there\u2019s really no constituency for neomonetarism. Milton Friedman would be an isolated outcast in today\u2019s conservative movement, and his would-be successors have no home.\"\"\")\n",
      "\n",
      "\n",
      "paul_krugman_of_yester_year = Ngram(\"\"\"When the Fed began its talk of \u201ctapering\u201d asset purchases, I warned that it might turn out to be a \u201chistoric mistake\u201d. I guess the historic bit is still up in the air; but the mistake aspect is now glaringly obvious. Bond prices have plunged, and the Fed\u2019s attempts to inform markets that they\u2019ve got it all wrong have only modestly mitigated the impact.\n",
      "\n",
      "What went wrong? The Fed grossly misunderstood the nature of the relationship between its statements and market expectations. It believed that the market was listening closely to the details of what it said. In fact, the market doesn\u2019t \u2014 and probably shouldn\u2019t. Instead, it listens to the tone of Fed statements, and also Fed actions; it\u2019s more a matter of character judgment than mathematics. And what the Fed conveyed with the tapering talk was a sense that its heart really isn\u2019t in this stimulus thing.\n",
      "\n",
      "OK, a bit more detail. Right now, the Fed is doing two things in an attempt to boost the economy: it\u2019s promising to keep short-term rates, which it controls, low; and it\u2019s trying to reduce long-term rates directly, through bond purchases. What the Fed said was that it was thinking of slowing down those bond purchases \u2014 but not to worry, it still plans to keep short-term rates low.\n",
      "\n",
      "But as Gavyn Davies shows, the market responded by sharply marking up its expectations for future short-term rates. In April, the market thought there was almost no chance the Fed would raise rates next year; now such a rise is considered more likely than not.\n",
      "\n",
      "Fed officials are frustrated. Weren\u2019t investors listening? But the Fed was foolish here \u2014 and the investors aren\u2019t.\n",
      "\n",
      "The key point you always have to remember (but which the Fed somehow forgot) is that there is no way to lock in future monetary policy. Whatever the Federal Open Market Committee may say now about its plans for 2014 or 2015, it can always do something different when the future turns into the present.\n",
      "\n",
      "So what\u2019s the point of Fed communication? Mainly it\u2019s not about the specific numbers; it\u2019s about conveying what kind of central bankers we\u2019re dealing with, and hence what they\u2019re likely to do in the future. Talk of extended easy money can help the economy now precisely because it makes the Fed sound like it\u2019s not a conventionally-minded central bank, eager to snatch away the punch bowl; even asset purchases work mainly because they reinforce that impression of unconventionality.\n",
      "\n",
      "But when the Fed starts talking about tapering at a time when unemployment is still very high and inflation below target, it undoes all of that good work; suddenly the FOMC starts sounding once again like a group whose fingers are already twitching as they fight the urge to grab that punch bowl.\n",
      "\n",
      "Undoing this damage is going to be very hard. One thing that will matter a lot, however, is the choice of Bernanke\u2019s successor. If she\u2019s a well-known dove, that could help a lot. If he\u2019s, say, someone known for saying things like \u201cstimulus is sugar\u201c, look out below.\"\"\")\n",
      "\n",
      "paul_krugman_today.comparison(paul_krugman_of_yester_year)"
     ],
     "language": "python",
     "metadata": {},
     "outputs": [
      {
       "metadata": {},
       "output_type": "pyout",
       "prompt_number": 3,
       "text": [
        "['This writing sample is about 44.8529411765% the same in terms of word choice',\n",
        " 'This writing sample uses about 3.55392156863% of the same phrasing as the provided second sample']"
       ]
      }
     ],
     "prompt_number": 3
    }
   ],
   "metadata": {}
  }
 ]
}